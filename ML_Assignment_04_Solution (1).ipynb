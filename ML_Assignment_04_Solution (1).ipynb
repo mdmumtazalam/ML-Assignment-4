{
  "cells": [
    {
      "cell_type": "markdown",
      "id": "2aece4d5",
      "metadata": {
        "id": "2aece4d5"
      },
      "source": [
        "# ML Assignment 4 Solution :-\n",
        "SUBMITTED BY: MD MUMTAZ ALAM"
      ]
    },
    {
      "cell_type": "markdown",
      "id": "346def15",
      "metadata": {
        "id": "346def15"
      },
      "source": [
        "## 1. What are the key tasks involved in getting ready to work with machine learning modeling ?\n"
      ]
    },
    {
      "cell_type": "markdown",
      "id": "5c2da6f2",
      "metadata": {
        "id": "5c2da6f2"
      },
      "source": [
        "#### Ans: \n",
        "The Key Tasks involved in getting ready to work with Machine learning Modelling are:\n",
        "\n",
        "1) Data collection: Defining the problem and assembling a dataset.\n",
        "\n",
        "2) Data preparation: Preparing your data.\n",
        "\n",
        "3) Choosing a Model\n",
        "\n",
        "4) Training the Model: Developing a model that does better than a baseline.\n",
        "\n",
        "5) Evaluating the Model: Choosing a measure of success. Deciding on an evaluation protocol.\n",
        "\n",
        "6) Parameter tuning: Scaling up: developing a model that overfits.Regularizing your model and tuning your parameters.\n",
        "\n",
        "7) Prediction or Inference."
      ]
    },
    {
      "cell_type": "markdown",
      "id": "1bd7d947",
      "metadata": {
        "id": "1bd7d947"
      },
      "source": [
        "![image.png](attachment:image.png)"
      ]
    },
    {
      "cell_type": "markdown",
      "id": "5e5c0419",
      "metadata": {
        "id": "5e5c0419"
      },
      "source": [
        "## 2. What are the different forms of data used in machine learning ? Give a specific example for each of them ?"
      ]
    },
    {
      "cell_type": "markdown",
      "id": "31550703",
      "metadata": {
        "id": "31550703"
      },
      "source": [
        "#### Ans: \n",
        "Most data can be categorized into 4 basic types from a Machine Learning perspective: Numerical Data, Categorical Data, Time-Series Data, and Text data."
      ]
    },
    {
      "cell_type": "markdown",
      "id": "8ea20302",
      "metadata": {
        "id": "8ea20302"
      },
      "source": [
        "![image.png](attachment:image.png)"
      ]
    },
    {
      "cell_type": "markdown",
      "id": "c8df98b3",
      "metadata": {
        "id": "c8df98b3"
      },
      "source": [
        "#### Numerical Data:\n",
        "Numerical data is any data where data points are exact numbers. Statisticians also might call numerical data, quantitative data. This data has meaning as a measurement such as house prices or as a count, such as a number of residential properties in Los Angeles or how many houses sold in the past year.\n",
        "\n",
        "Numerical data can be characterized by continuous or discrete data. Continuous data can assume any value within a range whereas discrete data has distinct values."
      ]
    },
    {
      "cell_type": "markdown",
      "id": "de3f2073",
      "metadata": {
        "id": "de3f2073"
      },
      "source": [
        "![image.png](attachment:image.png)"
      ]
    },
    {
      "cell_type": "markdown",
      "id": "89a4e4b0",
      "metadata": {
        "id": "89a4e4b0"
      },
      "source": [
        "#### Categorical Data:\n",
        "Categorical data represents characteristics, such as a hockey player’s position, team, hometown. Categorical data can take numerical values. For example, maybe we would use 1 for the colour red and 2 for blue. But these numbers don’t have a mathematical meaning. That is, we can’t add them together or take the average."
      ]
    },
    {
      "cell_type": "markdown",
      "id": "2cec7c63",
      "metadata": {
        "id": "2cec7c63"
      },
      "source": [
        "![image.png](attachment:image.png)\n"
      ]
    },
    {
      "cell_type": "markdown",
      "id": "a09985d9",
      "metadata": {
        "id": "a09985d9"
      },
      "source": [
        "#### Time Series Data:\n",
        "Time series data is a sequence of numbers collected at regular intervals over some period of time. It is very important, especially in particular fields like finance. Time series data has a temporal value attached to it, so this would be something like a date or a timestamp that you can look for trends in time."
      ]
    },
    {
      "cell_type": "markdown",
      "id": "8951b3ab",
      "metadata": {
        "id": "8951b3ab"
      },
      "source": [
        "![image.png](attachment:image.png)"
      ]
    },
    {
      "cell_type": "markdown",
      "id": "7467a647",
      "metadata": {
        "id": "7467a647"
      },
      "source": [
        "#### Text:\n",
        "Text data is basically just words. A lot of the time the first thing that you do with text is you turn it into numbers using some interesting functions like the bag of words formulation.\n",
        "\n"
      ]
    },
    {
      "cell_type": "markdown",
      "id": "3c5b0268",
      "metadata": {
        "id": "3c5b0268"
      },
      "source": [
        "![image.png](attachment:image.png)"
      ]
    },
    {
      "cell_type": "markdown",
      "id": "9461864b",
      "metadata": {
        "id": "9461864b"
      },
      "source": [
        "### 3. Distinguish between :\n",
        "\n",
        "1) Numeric vs. categorical attributes\n",
        "\n",
        "2) Feature selection vs. dimensionality reduction"
      ]
    },
    {
      "cell_type": "markdown",
      "id": "4568ad5a",
      "metadata": {
        "id": "4568ad5a"
      },
      "source": [
        "#### Ans: \n",
        "The following are the differences between:"
      ]
    },
    {
      "cell_type": "markdown",
      "id": "01e7faab",
      "metadata": {
        "id": "01e7faab"
      },
      "source": [
        "##### 1) Numeric vs. categorical attributes:\n",
        "\n",
        "* Numerical data are values obtained for quantitative variable, and carries a sense of magnitude related to the context of the variable (hence, they are always numbers or symbols carrying a numerical value).\n",
        "\n",
        "* Categorical data are values obtained for a qualitative variable. categorical data numbers do not carry a sense of magnitude.\n",
        "\n",
        "* Numerical data always belong to either ordinal, ratio, or interval type, whereas categorical data belong to nominal type. - - Methods used to analyse quantitative data are different from the methods used for categorical data, even if the principles are the same at least the application has significant differences.\n",
        "\n",
        "* Numerical data are analysed using statistical methods in descriptive statistics, regression, time series and many more.For categorical data usually descriptive methods and graphical methods are employed. Some non-parametric tests are also used."
      ]
    },
    {
      "cell_type": "markdown",
      "id": "2c391548",
      "metadata": {
        "id": "2c391548"
      },
      "source": [
        "##### 2) Feature selection vs. dimensionality reduction\n",
        "\n",
        "* Feature selection you just select a subset of the original feature set, without any manipulation of the data on the other hand.\n",
        "\n",
        "* Dimensionality reduction is typically choosing a new representation within which you can describe most but not all of the variance within your data, thereby retaining the relevant information, while reducing theamount of information necessary to represent it."
      ]
    },
    {
      "cell_type": "markdown",
      "id": "729c72fd",
      "metadata": {
        "id": "729c72fd"
      },
      "source": [
        "## 4. Make quick notes on any two of the following ?\n",
        "\n",
        "1) The histogram\n",
        "\n",
        "2) Use a scatter plot\n",
        "\n",
        "3) PCA (Personal Computer Aid)"
      ]
    },
    {
      "cell_type": "markdown",
      "id": "bc4ea9a3",
      "metadata": {
        "id": "bc4ea9a3"
      },
      "source": [
        "#### Ans: \n",
        "The Quick notes on the following three topics is:"
      ]
    },
    {
      "cell_type": "markdown",
      "id": "7f17f73d",
      "metadata": {
        "id": "7f17f73d"
      },
      "source": [
        "#### The histogram: \n",
        "A Histogram is a graphical representation that organizes a group of data points into user-specified ranges. Similar in appearance to a bar graph, the histogram condenses a data series into an easily interpreted visual by taking many data points and grouping them into logical ranges or bins.\n",
        "\n",
        "\n",
        "#### Use a scatter plot: \n",
        "A scatter plot (aka scatter chart, scatter graph) uses dots to represent values for two different numeric variables. The position of each dot on the horizontal and vertical axis indicates values for an individual data point. Scatter plots are used to observe relationships between variables.\n",
        "\n",
        "\n",
        "#### PCA (Personal Computer Aid): \n",
        "Principal Component Analysis or PCA is a widely used technique for dimensionality reduction of the large data set. Reducing the number of components or features costs some accuracy and on the other hand, it makes the large data set simpler, easy to explore and visualize."
      ]
    },
    {
      "cell_type": "markdown",
      "id": "1878c72b",
      "metadata": {
        "id": "1878c72b"
      },
      "source": [
        "## 5. Why is it necessary to investigate data? Is there a discrepancy in how qualitative and quantitative data are explored ?"
      ]
    },
    {
      "cell_type": "markdown",
      "id": "8f0a568f",
      "metadata": {
        "id": "8f0a568f"
      },
      "source": [
        "#### Ans: \n",
        "If your data set is messy, building models will not help you to solve your problem. What will happen is Garbage In, Garbage Out. In order to build a powerful machine learning algorithm. We need to explore and understand our data set before we define a predictive task and solve it."
      ]
    },
    {
      "cell_type": "markdown",
      "id": "dd17aedb",
      "metadata": {
        "id": "dd17aedb"
      },
      "source": [
        "## 6. What are the various histogram shapes? What exactly are ‘bins' ?"
      ]
    },
    {
      "cell_type": "markdown",
      "id": "38e7bd2f",
      "metadata": {
        "id": "38e7bd2f"
      },
      "source": [
        "#### Ans: \n",
        "The different types of a Histogram are:\n",
        "\n",
        "1) Uniform Histogram\n",
        "\n",
        "2) Symmetric Histogram\n",
        "\n",
        "3) Bimodal Histogram\n",
        "\n",
        "4) Probability Histogram.\n",
        "\n",
        "The bin in a histogram is the choice of unit and spacing on the X-axis. All the data in a probability distribution represented visually by a histogram is filled into the corresponding bins. The height of each bin is a measurement of the frequency with which data appears inside the range of that bin in the distribution."
      ]
    },
    {
      "cell_type": "markdown",
      "id": "1caf9b12",
      "metadata": {
        "id": "1caf9b12"
      },
      "source": [
        "## 7. How do we deal with data outliers ?"
      ]
    },
    {
      "cell_type": "markdown",
      "id": "7bdd672b",
      "metadata": {
        "id": "7bdd672b"
      },
      "source": [
        "#### Ans: \n",
        "We can use Z-Score or any of below methods to deal with data outliers:\n",
        "\n",
        "\n",
        "#### Univariate Method: \n",
        "This method looks for data points with extreme values on one variable.\n",
        "\n",
        "\n",
        "#### Multivariate Method: \n",
        "Here, we look for unusual combinations of all the variables.\n",
        "\n",
        "\n",
        "#### Minkowski Error: \n",
        "This method reduces the contribution of potential outliers in the training process.\n",
        "\n",
        "\n",
        "#### Z-Score: \n",
        "This can be done with just one line code as we have already calculated the Z-score.\n",
        "boston_df_o = boston_df_o[(z < 3).all(axis=1)]\n",
        "\n",
        "\n",
        "#### IQR Score: \n",
        "Calculate IQR score to filter out the outliers by keeping only valid values.\n",
        "boston_df_out = boston_df_o1[~((boston_df_o1 < (Q1 - 1.5 * IQR)) |(boston_df_o1 > (Q3 + 1.5 *IQR))).any(axis=1)]\n",
        "boston_df_out.shape\n",
        "\n",
        "\n",
        "#### Quantile function: \n",
        "Use quantile() to remove amount of data."
      ]
    },
    {
      "cell_type": "markdown",
      "id": "dd54a2ae",
      "metadata": {
        "id": "dd54a2ae"
      },
      "source": [
        "## 8. What are the various central inclination measures? Why does mean vary too much from median in certain data sets ?"
      ]
    },
    {
      "cell_type": "markdown",
      "id": "49b2389c",
      "metadata": {
        "id": "49b2389c"
      },
      "source": [
        "#### Ans: \n",
        "Mean, Median and Mode are Central Inclination Measures. Mean varies more than Median due to presence of outliers, as mean is averaging all points while median in like finding a middle number."
      ]
    },
    {
      "cell_type": "markdown",
      "id": "4e52c5e2",
      "metadata": {
        "id": "4e52c5e2"
      },
      "source": [
        "## 9. Describe how a scatter plot can be used to investigate bivariate relationships. Is it possible to find outliers using a scatter plot ?"
      ]
    },
    {
      "cell_type": "markdown",
      "id": "fec83c37",
      "metadata": {
        "id": "fec83c37"
      },
      "source": [
        "#### Ans: \n",
        "A Scatter Plot (aka scatter chart, scatter graph) uses dots to represent values for two different numeric variables. The position of each dot on the horizontal and vertical axis indicates values for an individual data point. So this visualization gives us the idea of bivariate relationship.\n",
        "\n",
        "Scatter plot can also help finding outliers as outliers can be visualized at farther distance than regular data."
      ]
    },
    {
      "cell_type": "markdown",
      "id": "97df0085",
      "metadata": {
        "id": "97df0085"
      },
      "source": [
        "## 10. Describe how cross-tabs can be used to figure out how two variables are related ?"
      ]
    },
    {
      "cell_type": "markdown",
      "id": "fb9b55d2",
      "metadata": {
        "id": "fb9b55d2"
      },
      "source": [
        "#### Ans: \n",
        "Cross tabulation is a method to quantitatively analyze the relationship between multiple variables. Also known as contingency tables or cross tabs, cross tabulation groups variables to understand the correlation between different variables. It also shows how correlations change from one variable grouping to another."
      ]
    },
    {
      "cell_type": "markdown",
      "id": "48fe6a9a",
      "metadata": {
        "id": "48fe6a9a"
      },
      "source": [
        "# Thank You"
      ]
    }
  ],
  "metadata": {
    "kernelspec": {
      "display_name": "Python 3 (ipykernel)",
      "language": "python",
      "name": "python3"
    },
    "language_info": {
      "codemirror_mode": {
        "name": "ipython",
        "version": 3
      },
      "file_extension": ".py",
      "mimetype": "text/x-python",
      "name": "python",
      "nbconvert_exporter": "python",
      "pygments_lexer": "ipython3",
      "version": "3.9.7"
    },
    "colab": {
      "provenance": []
    }
  },
  "nbformat": 4,
  "nbformat_minor": 5
}